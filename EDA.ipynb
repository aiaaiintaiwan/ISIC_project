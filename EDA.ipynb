{
 "cells": [
  {
   "cell_type": "code",
   "execution_count": null,
   "metadata": {},
   "outputs": [],
   "source": [
    "from os import listdir\n",
    "import pandas as pd # data processing, CSV file I/O (e.g. pd.read_csv)\n",
    "import numpy as np\n",
    "import matplotlib.pyplot as plt\n",
    "%matplotlib inline\n",
    "\n",
    "#plotly\n",
    "import plotly.express as px\n",
    "import chart_studio.plotly as py\n",
    "import plotly.graph_objs as go\n",
    "from plotly.offline import iplot\n",
    "import cufflinks\n",
    "cufflinks.go_offline()\n",
    "cufflinks.set_config_file(world_readable=True, theme='pearl')\n",
    "\n",
    "import seaborn as sns\n",
    "sns.set(style=\"whitegrid\")\n",
    "\n",
    "\n",
    "#pydicom\n",
    "import pydicom\n",
    "\n",
    "# Suppress warnings \n",
    "import warnings\n",
    "warnings.filterwarnings('ignore')\n",
    "\n",
    "\n",
    "# Settings for pretty nice plots\n",
    "plt.style.use('fivethirtyeight')\n",
    "plt.show()"
   ]
  },
  {
   "cell_type": "code",
   "execution_count": null,
   "metadata": {},
   "outputs": [],
   "source": [
    "DataPath = \"./ISIC\"\n",
    "print(os.listdir(DataPath))"
   ]
  },
  {
   "cell_type": "code",
   "execution_count": null,
   "metadata": {},
   "outputs": [],
   "source": [
    "train_df = pd.read_csv(os.path.join(DataPath , 'train.csv'))\n",
    "# test_df = pd.read_csv('test.csv')\n",
    "\n",
    "#Training data\n",
    "print('Training data shape: ', train_df.shape)\n",
    "train_df.head(5)"
   ]
  },
  {
   "cell_type": "code",
   "execution_count": null,
   "metadata": {},
   "outputs": [],
   "source": [
    "train_df.groupby(['benign_malignant']).count()"
   ]
  },
  {
   "cell_type": "code",
   "execution_count": null,
   "metadata": {},
   "outputs": [],
   "source": [
    "# Null values and Data types\n",
    "print('Train Set')\n",
    "print(train_df.info())\n",
    "print('-------------')"
   ]
  },
  {
   "cell_type": "code",
   "execution_count": null,
   "metadata": {},
   "outputs": [],
   "source": [
    "# Total number of images in the dataset(train+test)\n",
    "print(\"Total images in Train set: \",train_df['image_name'].count())"
   ]
  },
  {
   "cell_type": "code",
   "execution_count": null,
   "metadata": {},
   "outputs": [],
   "source": [
    "print(f\"The total patient ids are {train_df['patient_id'].count()}, \\\n",
    "from those the unique ids are {train_df['patient_id'].value_counts().shape[0]} \")"
   ]
  },
  {
   "cell_type": "code",
   "execution_count": null,
   "metadata": {},
   "outputs": [],
   "source": [
    "columns = train_df.keys()\n",
    "columns = list(columns)\n",
    "print(columns)"
   ]
  },
  {
   "cell_type": "code",
   "execution_count": null,
   "metadata": {},
   "outputs": [],
   "source": [
    "print(train_df['target'].value_counts())"
   ]
  },
  {
   "cell_type": "code",
   "execution_count": null,
   "metadata": {},
   "outputs": [],
   "source": [
    "train_df['target'].value_counts(normalize=True).iplot(kind='bar',\n",
    "                                                      yTitle='Percentage', \n",
    "                                                      linecolor='black', \n",
    "                                                      opacity=0.7,\n",
    "                                                      color='red',\n",
    "                                                      theme='pearl',\n",
    "                                                      bargap=0.8,\n",
    "                                                      gridcolor='white',\n",
    "                                                     \n",
    "                                                      title='Distribution of the Target column in the training set')"
   ]
  },
  {
   "cell_type": "code",
   "execution_count": null,
   "metadata": {},
   "outputs": [],
   "source": [
    "train_df['sex'].value_counts(normalize=True)\n",
    "train_df['sex'].value_counts(normalize=True).iplot(kind='bar',\n",
    "                                                      yTitle='Percentage', \n",
    "                                                      linecolor='black', \n",
    "                                                      opacity=0.7,\n",
    "                                                      color='green',\n",
    "                                                      theme='pearl',\n",
    "                                                      bargap=0.8,\n",
    "                                                      gridcolor='white',\n",
    "                                                     \n",
    "                                                      title='Distribution of the Sex column in the training set')"
   ]
  },
  {
   "cell_type": "code",
   "execution_count": null,
   "metadata": {},
   "outputs": [],
   "source": [
    "z=train_df.groupby(['target','sex'])['benign_malignant'].count().to_frame().reset_index()\n",
    "z.style.background_gradient(cmap='Reds') "
   ]
  },
  {
   "cell_type": "code",
   "execution_count": null,
   "metadata": {},
   "outputs": [],
   "source": [
    "sns.catplot(x='target',y='benign_malignant', hue='sex',data=z,kind='bar')\n",
    "plt.ylabel('Count')\n",
    "plt.xlabel('benign:0 vs malignant:1')"
   ]
  },
  {
   "cell_type": "code",
   "execution_count": null,
   "metadata": {},
   "outputs": [],
   "source": [
    "train_df['anatom_site_general_challenge'].value_counts(normalize=True).sort_values() * 100"
   ]
  },
  {
   "cell_type": "code",
   "execution_count": null,
   "metadata": {},
   "outputs": [],
   "source": [
    "train_df['anatom_site_general_challenge'].value_counts(normalize=True).sort_values().iplot(kind='barh',\n",
    "                                                      xTitle='Percentage', \n",
    "                                                      linecolor='black', \n",
    "                                                      opacity=0.7,\n",
    "                                                      color='#FB8072',\n",
    "                                                      theme='pearl',\n",
    "                                                      bargap=0.2,\n",
    "                                                      gridcolor='white',\n",
    "                                                      title='Distribution of the imaged site in the training set')"
   ]
  },
  {
   "cell_type": "code",
   "execution_count": null,
   "metadata": {},
   "outputs": [],
   "source": [
    "z1=train_df.groupby(['sex','anatom_site_general_challenge'])['benign_malignant'].count().to_frame().reset_index()\n",
    "z1.style.background_gradient(cmap='Reds')\n",
    "sns.catplot(x='anatom_site_general_challenge',y='benign_malignant', hue='sex',data=z1,kind='bar')\n",
    "plt.gcf().set_size_inches(10,8)\n",
    "plt.xlabel('location of imaged site')\n",
    "plt.xticks(rotation=45,fontsize='10', horizontalalignment='right')\n",
    "plt.ylabel('count of melanoma cases')"
   ]
  },
  {
   "cell_type": "code",
   "execution_count": null,
   "metadata": {},
   "outputs": [],
   "source": [
    "train_df['age_approx'].iplot(kind='hist',bins=30,color='orange',xTitle='Age distribution',yTitle='Count')"
   ]
  },
  {
   "cell_type": "code",
   "execution_count": null,
   "metadata": {},
   "outputs": [],
   "source": [
    "# KDE plot of age that were diagnosed as benign\n",
    "sns.kdeplot(train_df.loc[train_df['target'] == 0, 'age_approx'], label = 'Benign',shade=True)\n",
    "\n",
    "# KDE plot of age that were diagnosed as malignant\n",
    "sns.kdeplot(train_df.loc[train_df['target'] == 1, 'age_approx'], label = 'Malignant',shade=True)\n",
    "\n",
    "# Labeling of plot\n",
    "plt.xlabel('Age (years)'); plt.ylabel('Density'); plt.title('Distribution of Ages');"
   ]
  },
  {
   "cell_type": "code",
   "execution_count": null,
   "metadata": {},
   "outputs": [],
   "source": [
    "# KDE plot of age that were diagnosed as benign\n",
    "sns.kdeplot(train_df.loc[train_df['sex'] == 'male', 'age_approx'], label = 'Male',shade=True)\n",
    "\n",
    "# KDE plot of age that were diagnosed as malignant\n",
    "sns.kdeplot(train_df.loc[train_df['sex'] == 'female', 'age_approx'], label = 'Female',shade=True)\n",
    "\n",
    "# Labeling of plot\n",
    "plt.xlabel('Age (years)'); plt.ylabel('Density'); plt.title('Distribution of Ages');"
   ]
  },
  {
   "cell_type": "code",
   "execution_count": null,
   "metadata": {},
   "outputs": [],
   "source": [
    "train_df['diagnosis'].value_counts()"
   ]
  },
  {
   "cell_type": "code",
   "execution_count": null,
   "metadata": {},
   "outputs": [],
   "source": [
    "train_df['diagnosis'].value_counts(normalize=True).sort_values().iplot(kind='barh',\n",
    "                                                      xTitle='Percentage', \n",
    "                                                      linecolor='black', \n",
    "                                                      opacity=0.7,\n",
    "                                                      color='blue',\n",
    "                                                      theme='pearl',\n",
    "                                                      bargap=0.2,\n",
    "                                                      gridcolor='white',\n",
    "                                                      title='Distribution in the training set')"
   ]
  },
  {
   "cell_type": "code",
   "execution_count": null,
   "metadata": {},
   "outputs": [],
   "source": [
    "images = train_df['image_name'].values\n",
    "\n",
    "# Extract 9 random images from it\n",
    "random_images = [np.random.choice(images+'.jpg') for i in range(9)]\n",
    "\n",
    "# Location of the image dir\n",
    "img_dir = DataPath+'/train'\n",
    "\n",
    "print('Display Random Images')\n",
    "\n",
    "# Adjust the size of your images\n",
    "plt.figure(figsize=(10,8))\n",
    "\n",
    "# Iterate and plot random images\n",
    "for i in range(9):\n",
    "    plt.subplot(3, 3, i + 1)\n",
    "    img = plt.imread(os.path.join(img_dir, random_images[i]))\n",
    "    plt.imshow(img, cmap='gray')\n",
    "    plt.axis('off')\n",
    "    \n",
    "# Adjust subplot parameters to give specified padding\n",
    "plt.tight_layout()  "
   ]
  },
  {
   "cell_type": "code",
   "execution_count": null,
   "metadata": {},
   "outputs": [],
   "source": [
    "benign = train_df[train_df['benign_malignant']=='benign']\n",
    "malignant = train_df[train_df['benign_malignant']=='malignant']"
   ]
  },
  {
   "cell_type": "code",
   "execution_count": null,
   "metadata": {},
   "outputs": [],
   "source": [
    "# Extract 9 random images from it\n",
    "random_images = [np.random.choice(images+'.jpg') for i in range(9)]\n",
    "\n",
    "# Location of the image dir\n",
    "img_dir = DataPath+'/train'\n",
    "\n",
    "print('Display benign Images')\n",
    "\n",
    "# Adjust the size of your images\n",
    "plt.figure(figsize=(10,8))\n",
    "\n",
    "# Iterate and plot random images\n",
    "for i in range(9):\n",
    "    plt.subplot(3, 3, i + 1)\n",
    "    img = plt.imread(os.path.join(img_dir, random_images[i]))\n",
    "    plt.imshow(img, cmap='gray')\n",
    "    plt.axis('off')\n",
    "    \n",
    "# Adjust subplot parameters to give specified padding\n",
    "plt.tight_layout()\n",
    "plt.savefig('benign.png')"
   ]
  },
  {
   "cell_type": "code",
   "execution_count": null,
   "metadata": {},
   "outputs": [],
   "source": [
    "images = malignant['image_name'].values\n",
    "\n",
    "# Extract 9 random images from it\n",
    "random_images = [np.random.choice(images+'.jpg') for i in range(9)]\n",
    "\n",
    "# Location of the image dir\n",
    "img_dir = DataPath+'/train'\n",
    "\n",
    "print('Display malignant Images')\n",
    "\n",
    "# Adjust the size of your images\n",
    "plt.figure(figsize=(10,8))\n",
    "\n",
    "# Iterate and plot random images\n",
    "for i in range(9):\n",
    "    plt.subplot(3, 3, i + 1)\n",
    "    img = plt.imread(os.path.join(img_dir, random_images[i]))\n",
    "    plt.imshow(img, cmap='gray')\n",
    "    plt.axis('off')\n",
    "    \n",
    "# Adjust subplot parameters to give specified padding\n",
    "plt.tight_layout()\n",
    "plt.savefig('malignant.png')"
   ]
  },
  {
   "cell_type": "code",
   "execution_count": null,
   "metadata": {},
   "outputs": [],
   "source": [
    "images = malignant['image_name'].values\n",
    "import cv2\n",
    "# Extract 9 random images from it\n",
    "random_images = [np.random.choice(images+'.jpg') for i in range(20)]\n",
    "\n",
    "# Location of the image dir\n",
    "img_dir = DataPath+'/train'\n",
    "\n",
    "print('Display malignant Images')\n",
    "\n",
    "# Adjust the size of your images\n",
    "plt.figure(figsize=(10,8))\n",
    "\n",
    "for i in range(len(random_images)):\n",
    "    img = cv2.imread(os.path.join(img_dir, random_images[i]))\n",
    "    cv2.imwrite('malignant_{}.png'.format(i), img)"
   ]
  },
  {
   "cell_type": "code",
   "execution_count": null,
   "metadata": {},
   "outputs": [],
   "source": [
    "f = plt.figure(figsize=(16,8))\n",
    "f.add_subplot(1,2, 1)\n",
    "\n",
    "sample_img = benign['image_name'][0]+'.jpg'\n",
    "raw_image = plt.imread(os.path.join(img_dir, sample_img))\n",
    "plt.imshow(raw_image, cmap='gray')\n",
    "plt.colorbar()\n",
    "plt.title('Benign Image')\n",
    "print(f\"Image dimensions:  {raw_image.shape[0],raw_image.shape[1]}\")\n",
    "print(f\"Maximum pixel value : {raw_image.max():.1f} ; Minimum pixel value:{raw_image.min():.1f}\")\n",
    "print(f\"Mean value of the pixels : {raw_image.mean():.1f} ; Standard deviation : {raw_image.std():.1f}\")\n",
    "\n",
    "f.add_subplot(1,2, 2)\n",
    "\n",
    "#_ = plt.hist(raw_image.ravel(),bins = 256, color = 'orange',)\n",
    "_ = plt.hist(raw_image[:, :, 0].ravel(), bins = 256, color = 'red', alpha = 0.5)\n",
    "_ = plt.hist(raw_image[:, :, 1].ravel(), bins = 256, color = 'Green', alpha = 0.5)\n",
    "_ = plt.hist(raw_image[:, :, 2].ravel(), bins = 256, color = 'Blue', alpha = 0.5)\n",
    "_ = plt.xlabel('Intensity Value')\n",
    "_ = plt.ylabel('Count')\n",
    "_ = plt.legend(['Red_Channel', 'Green_Channel', 'Blue_Channel'])\n",
    "plt.show()"
   ]
  },
  {
   "cell_type": "code",
   "execution_count": null,
   "metadata": {},
   "outputs": [],
   "source": [
    "f = plt.figure(figsize=(16,8))\n",
    "f.add_subplot(1,2, 1)\n",
    "\n",
    "sample_img = malignant['image_name'][235]+'.jpg'\n",
    "raw_image = plt.imread(os.path.join(img_dir, sample_img))\n",
    "plt.imshow(raw_image, cmap='gray')\n",
    "plt.colorbar()\n",
    "plt.title('Malignant Image')\n",
    "print(f\"Image dimensions:  {raw_image.shape[0],raw_image.shape[1]}\")\n",
    "print(f\"Maximum pixel value : {raw_image.max():.1f} ; Minimum pixel value:{raw_image.min():.1f}\")\n",
    "print(f\"Mean value of the pixels : {raw_image.mean():.1f} ; Standard deviation : {raw_image.std():.1f}\")\n",
    "\n",
    "f.add_subplot(1,2, 2)\n",
    "\n",
    "#_ = plt.hist(raw_image.ravel(),bins = 256, color = 'orange',)\n",
    "_ = plt.hist(raw_image[:, :, 0].ravel(), bins = 256, color = 'red', alpha = 0.5)\n",
    "_ = plt.hist(raw_image[:, :, 1].ravel(), bins = 256, color = 'Green', alpha = 0.5)\n",
    "_ = plt.hist(raw_image[:, :, 2].ravel(), bins = 256, color = 'Blue', alpha = 0.5)\n",
    "_ = plt.xlabel('Intensity Value')\n",
    "_ = plt.ylabel('Count')\n",
    "_ = plt.legend(['Red_Channel', 'Green_Channel', 'Blue_Channel'])\n",
    "plt.show()"
   ]
  },
  {
   "cell_type": "code",
   "execution_count": null,
   "metadata": {},
   "outputs": [],
   "source": []
  }
 ],
 "metadata": {
  "kernelspec": {
   "display_name": "Python 3",
   "language": "python",
   "name": "python3"
  },
  "language_info": {
   "codemirror_mode": {
    "name": "ipython",
    "version": 3
   },
   "file_extension": ".py",
   "mimetype": "text/x-python",
   "name": "python",
   "nbconvert_exporter": "python",
   "pygments_lexer": "ipython3",
   "version": "3.7.6"
  }
 },
 "nbformat": 4,
 "nbformat_minor": 2
}
